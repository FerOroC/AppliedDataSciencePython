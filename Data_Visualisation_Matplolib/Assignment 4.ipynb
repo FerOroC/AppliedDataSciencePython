{
 "cells": [
  {
   "cell_type": "markdown",
   "id": "bdf5893b",
   "metadata": {},
   "source": [
    "# Datasets \n",
    "\n",
    "First dataset: Unemployment Rate in West Midlands from 1992 April to 2022 April (https://www.ons.gov.uk/employmentandlabourmarket/peoplenotinwork/unemployment/timeseries/ycng/lms)\n",
    "\n",
    "Second dataset: Estimated domestic abuse as percentage of victims from March 2005 to March 2020\n",
    "(https://www.ons.gov.uk/peoplepopulationandcommunity/crimeandjustice/bulletins/domesticabuseinenglandandwalesoverview/november2020)\n",
    "\n",
    "Third dataset: Deaths related to drug poisoning by date of occurrence from 1993 to 2018\n",
    "https://www.ons.gov.uk/peoplepopulationandcommunity/birthsdeathsandmarriages/deaths/datasets/deathsrelatedtodrugpoisoningbydateofoccurrence\n",
    "\n",
    "Fourth dataset: Population West Midlands from 1950 to 2037\n",
    "https://www.macrotrends.net/cities/22835/west-midlands/population#:~:text=The%20metro%20area%20population%20of,a%200.74%25%20increase%20from%202018."
   ]
  },
  {
   "cell_type": "code",
   "execution_count": 87,
   "id": "543a5b1e",
   "metadata": {},
   "outputs": [
    {
     "name": "stdout",
     "output_type": "stream",
     "text": [
      "     Year   Population\n",
      "0  1950.0    2229000.0\n",
      "1  1951.0    2240000.0\n",
      "2  1952.0    2250000.0\n",
      "3  1953.0    2261000.0\n",
      "4  1954.0    2272000.0\n",
      "     Year  Domestic Abuse Incidents as Percentage of Population\n",
      "0  2005.0                                                8.9   \n",
      "1  2006.0                                                9.0   \n",
      "2  2007.0                                                8.8   \n",
      "3  2008.0                                                NaN   \n",
      "4  2009.0                                                6.5   \n",
      "     Year  Unemployment Rate\n",
      "0  1992.0               11.0\n",
      "1  1993.0               11.7\n",
      "2  1994.0                9.7\n",
      "3  1995.0                8.7\n",
      "4  1996.0                8.5\n"
     ]
    },
    {
     "data": {
      "text/plain": [
       "<AxesSubplot:xlabel='Year'>"
      ]
     },
     "execution_count": 87,
     "metadata": {},
     "output_type": "execute_result"
    },
    {
     "data": {
      "image/png": "[encoded data removed]",
      "text/plain": [
       "<Figure size 432x288 with 1 Axes>"
      ]
     },
     "metadata": {
      "needs_background": "light"
     },
     "output_type": "display_data"
    }
   ],
   "source": [
    "import pandas as pd\n",
    "import matplotlib as plt\n",
    "import openpyxl\n",
    "import seaborn as sns\n",
    "\n",
    "df_population = pd.read_csv(r'\\Users\\feror\\OneDrive\\Documents\\Applied Data Science UoM\\Course 2\\week 4\\Datasets\\WM_population.csv')\n",
    "\n",
    "#First, drop header info, then rename columns to first row of usable data from csv file and drop this row. Rename date column \n",
    "#to Year, and remove the day and month data using regex so its just year info. An alternative method to do this would be to \n",
    "#convert this column to \n",
    "#Currently from 1950 to 2035. TODO: Method chain\n",
    "df_population = df_population.iloc[14:,:-1]\n",
    "\n",
    "df_population = (df_population\n",
    "                 .rename(columns = df_population.iloc[0])\n",
    "                 .drop(df_population.index[0], axis = 0)\n",
    "                 .rename(columns = {'date':'Year'})\n",
    "                 .replace(to_replace = ['^(\\d*)/(\\d*)/'], value = '', regex = True)\n",
    "                 .reset_index(drop = True)\n",
    "                 .astype(float)\n",
    "                )\n",
    "\n",
    "print(df_population.head())\n",
    "\n",
    "df_abuse = pd.read_csv(r'C:\\Users\\feror\\OneDrive\\Documents\\Applied Data Science UoM\\Course 2\\week 4\\Datasets\\WM_domestic_abuse.csv')\n",
    "\n",
    "#First drop header, rename columns, then use regex to convert from three letter month names to year. This could be done through\n",
    "#datetime conversion and manipulation, but in regex its just one line of code. \n",
    "\n",
    "df_abuse = (df_abuse\n",
    "            .iloc[6:, :2]\n",
    "            .rename(columns = {df_abuse.columns[0]:'Year', \n",
    "                                     df_abuse.columns[1]:'Domestic Abuse Incidents as Percentage of Population'})\n",
    "            .replace(to_replace = ['.*-'], value = '20', regex = True)\n",
    "            .reset_index(drop = True)\n",
    "            .astype(float)\n",
    "           )\n",
    "\n",
    "print(df_abuse.head())\n",
    "\n",
    "df_unemployment = pd.read_csv(r'C:\\Users\\feror\\OneDrive\\Documents\\Applied Data Science UoM\\Course 2\\week 4\\Datasets\\WM_unemployment.csv')\n",
    "df_unemployment = (df_unemployment\n",
    "                   .iloc[7:37]\n",
    "                   .rename(columns = {df_unemployment.columns[0]:'Year',\n",
    "                                     df_unemployment.columns[1]:'Unemployment Rate'})\n",
    "                   .reset_index(drop = True)\n",
    "                   .astype(float)\n",
    "                  )\n",
    "\n",
    "print(df_unemployment.head())\n",
    "\n",
    "df_overdoses = pd.read_excel(r'C:\\Users\\feror\\OneDrive\\Documents\\Applied Data Science UoM\\Course 2\\week 4\\Datasets\\WM_drug_overdose.xlsx', sheet_name = 'Table 5', engine = 'openpyxl')\n",
    "\n",
    "df_overdoses = (df_overdoses\n",
    "               .iloc[8: , :5]\n",
    "               .drop([df_overdoses.columns[1], df_overdoses.columns[2]], axis = 1)\n",
    "               .rename(columns = {df_overdoses.columns[0]:'Year',\n",
    "                                             df_overdoses.columns[3]:'Area Name',\n",
    "                                             df_overdoses.columns[4]:'Deaths by overdoses'})\n",
    "               .fillna(method = 'ffill'))\n",
    "\n",
    "#Here we are filtering the DataFrame by region so we only get West Midlands data. Then we convert the Year column to integer\n",
    "#the merge method requires the columns being morged on to be the same data type. I also noticed that the dataset had added \n",
    "#a space to the Population column at the start (so it was \" Population\") which made returned errors when I called the column \n",
    "#data later, so I fixed this. Finally, I made a new column which gave the Overdose Deaths as Percentage of Population.\n",
    "df_overdoses = df_overdoses[df_overdoses['Area Name'] == 'West Midlands']\n",
    "df_overdoses['Year'] = df_overdoses['Year'].astype(int)\n",
    "df_overdoses = pd.merge(df_overdoses, df_population, how = 'inner', on = 'Year')\n",
    "df_overdoses = df_overdoses.rename(columns = {df_overdoses.columns[-1]:'Population'})\n",
    "df_overdoses['Population'] = df_overdoses['Population'].astype(str).astype(float)\n",
    "df_overdoses['Overdose Deaths as Percentage of Population'] = df_overdoses['Deaths by overdoses']/df_overdoses['Population'].astype(int)\n",
    "df_overdoses = df_overdoses.iloc[:,[0,-1]]\n",
    "\n",
    "df = pd.merge(df_overdoses, df_abuse, how = 'inner', on = 'Year')\n",
    "df = pd.merge(df, df_unemployment, how = 'inner', on = 'Year')\n",
    "df = df.set_index('Year')\n",
    "df.loc[2008][-2] = 7\n",
    "df.plot()"
   ]
  },
  {
   "cell_type": "code",
   "execution_count": null,
   "id": "a67d0712",
   "metadata": {},
   "outputs": [],
   "source": []
  }
 ],
 "metadata": {
  "kernelspec": {
   "display_name": "Python 3 (ipykernel)",
   "language": "python",
   "name": "python3"
  },
  "language_info": {
   "codemirror_mode": {
    "name": "ipython",
    "version": 3
   },
   "file_extension": ".py",
   "mimetype": "text/x-python",
   "name": "python",
   "nbconvert_exporter": "python",
   "pygments_lexer": "ipython3",
   "version": "3.9.12"
  }
 },
 "nbformat": 4,
 "nbformat_minor": 5
}
