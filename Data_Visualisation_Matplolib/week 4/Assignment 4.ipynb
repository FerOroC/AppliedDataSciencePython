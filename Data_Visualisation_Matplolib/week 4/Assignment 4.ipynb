{
 "cells": [
  {
   "cell_type": "markdown",
   "id": "bdf5893b",
   "metadata": {},
   "source": [
    "# Datasets \n",
    "\n",
    "First dataset: Unemployment Rate in West Midlands from 1992 April to 2022 April (https://www.ons.gov.uk/employmentandlabourmarket/peoplenotinwork/unemployment/timeseries/ycng/lms)\n",
    "\n",
    "Second dataset: Estimated domestic abuse as percentage of victims from March 2005 to March 2020\n",
    "(https://www.ons.gov.uk/peoplepopulationandcommunity/crimeandjustice/bulletins/domesticabuseinenglandandwalesoverview/november2020)\n",
    "\n",
    "Third dataset: Deaths related to drug poisoning by date of occurrence from 1993 to 2018\n",
    "https://www.ons.gov.uk/peoplepopulationandcommunity/birthsdeathsandmarriages/deaths/datasets/deathsrelatedtodrugpoisoningbydateofoccurrence\n",
    "\n",
    "Fourth dataset: Population West Midlands from 1950 to 2037\n",
    "https://www.macrotrends.net/cities/22835/west-midlands/population#:~:text=The%20metro%20area%20population%20of,a%200.74%25%20increase%20from%202018."
   ]
  },
  {
   "cell_type": "code",
   "execution_count": null,
   "id": "543a5b1e",
   "metadata": {},
   "outputs": [],
   "source": []
  }
 ],
 "metadata": {
  "kernelspec": {
   "display_name": "Python 3 (ipykernel)",
   "language": "python",
   "name": "python3"
  },
  "language_info": {
   "codemirror_mode": {
    "name": "ipython",
    "version": 3
   },
   "file_extension": ".py",
   "mimetype": "text/x-python",
   "name": "python",
   "nbconvert_exporter": "python",
   "pygments_lexer": "ipython3",
   "version": "3.9.12"
  }
 },
 "nbformat": 4,
 "nbformat_minor": 5
}
